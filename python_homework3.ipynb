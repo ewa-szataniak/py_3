{
  "cells": [
    {
      "cell_type": "markdown",
      "metadata": {
        "id": "EgVMhEgAkar-"
      },
      "source": [
        "# Dictionaries & Sets"
      ]
    },
    {
      "cell_type": "markdown",
      "metadata": {
        "id": "N43xP3tvkasC"
      },
      "source": [
        "## Tasks Today:\n",
        "\n",
        "1) Dictionary <br>\n",
        " &nbsp;&nbsp;&nbsp;&nbsp; a) Declaring (key, value) <br>\n",
        " &nbsp;&nbsp;&nbsp;&nbsp; b) Accessing Values <br>\n",
        " &nbsp;&nbsp;&nbsp;&nbsp; ------ Exercise #1 - Print the eye color of each person in a double nested dict <br>\n",
        " &nbsp;&nbsp;&nbsp;&nbsp; c) Adding New Pairs <br>\n",
        " &nbsp;&nbsp;&nbsp;&nbsp; d) Modifying Values <br>\n",
        " &nbsp;&nbsp;&nbsp;&nbsp; e) Removing Key, Value Pairs <br>\n",
        " &nbsp;&nbsp;&nbsp;&nbsp; f) Looping a Dictionary <br>\n",
        " &nbsp;&nbsp;&nbsp;&nbsp; g) Looping Only Keys <br>\n",
        " &nbsp;&nbsp;&nbsp;&nbsp; h) Looping Only Values <br>\n",
        " &nbsp;&nbsp;&nbsp;&nbsp; ------ Exercise #2 - Create a program\n",
        " that Prints All Key Value Pairs within a print .format()  <br>\n",
        " &nbsp;&nbsp;&nbsp;&nbsp; i) sorted() <br>\n",
        " &nbsp;&nbsp;&nbsp;&nbsp; j) Lists with Dictionaries <br>\n",
        " &nbsp;&nbsp;&nbsp;&nbsp; k) Dictionaries with Lists <br>\n",
        " &nbsp;&nbsp;&nbsp;&nbsp; l) Dictionaries with Dictionaries <br>\n",
        " &nbsp;&nbsp;&nbsp;&nbsp; ------ Exercise #3 - Write a Function that asks someone's name and address, and then stores that into a dictionary, which prints all names and addresses after they're done putting information in...  <br>\n",
        "2) Dictionaries vs. Lists (over time)<br>\n",
        "3) Set <br>\n",
        " &nbsp;&nbsp;&nbsp;&nbsp; a) Declaring <br>\n",
        " &nbsp;&nbsp;&nbsp;&nbsp; b) .add() <br>\n",
        " &nbsp;&nbsp;&nbsp;&nbsp; c) .remove() <br>\n",
        " &nbsp;&nbsp;&nbsp;&nbsp; d) .union() <br>\n",
        " &nbsp;&nbsp;&nbsp;&nbsp; e) .intersection() <br>\n",
        " &nbsp;&nbsp;&nbsp;&nbsp; f) .difference() <br>\n",
        " &nbsp;&nbsp;&nbsp;&nbsp; g) Frozen Set <br>\n",
        "4) Modules <br>\n",
        " &nbsp;&nbsp;&nbsp;&nbsp; a) Importing Entire Modules <br>\n",
        " &nbsp;&nbsp;&nbsp;&nbsp; b) Importing Methods Only <br>\n",
        " &nbsp;&nbsp;&nbsp;&nbsp; c) Using the 'as' Keyword <br>\n",
        " &nbsp;&nbsp;&nbsp;&nbsp; d) Creating a Module <br>\n",
        "5) Exercises <br>\n",
        " &nbsp;&nbsp;&nbsp;&nbsp; a) Build a Shopping Cart <br>\n",
        " &nbsp;&nbsp;&nbsp;&nbsp; b) Create Your Own Module <br>"
      ]
    },
    {
      "cell_type": "markdown",
      "metadata": {
        "id": "BvQDDZGSkasC"
      },
      "source": [
        "## Dictionary <br>\n",
        "<p>A collection of data with 'key:value' pairs. Dictionaries are ordered as of Python 3.6</p>"
      ]
    },
    {
      "cell_type": "markdown",
      "metadata": {
        "id": "iTffc2hLkasD"
      },
      "source": [
        "##### Declaring (key, value)"
      ]
    },
    {
      "cell_type": "code",
      "execution_count": null,
      "metadata": {
        "id": "EYUngpBRkasD"
      },
      "outputs": [],
      "source": [
        "# keys should be unique\n",
        "# can use numbers or strings as keys\n",
        "\n",
        "d_1 = {}\n",
        "\n",
        "# or\n",
        "\n",
        "d_2 = dict()\n",
        "\n",
        "# d_2[\"some\"] = \"value\"\n",
        "\n",
        "# print(d_2)\n",
        "\n",
        "\n",
        "d_3 = {\n",
        "    \"Tom\": \"255 Main Street\",\n",
        "    \"Jerry\": \"256 Main Street\",\n",
        "    0: \"This is a 0\"\n",
        "}\n",
        "\n",
        "print(d_3)"
      ]
    },
    {
      "cell_type": "markdown",
      "metadata": {
        "id": "CITvOh6qkasE"
      },
      "source": [
        "##### Accessing Values"
      ]
    },
    {
      "cell_type": "code",
      "execution_count": null,
      "metadata": {
        "id": "n9FhqxLPkasE"
      },
      "outputs": [],
      "source": [
        "# dict[key]\n",
        "d_3 = {\n",
        "    \"Tom\": \"255 Main Street\",\n",
        "    \"Jerry\": \"256 Main Street\",\n",
        "    0: \"This is a 0\"\n",
        "}\n",
        "\n",
        "print(d_3['Tom'])\n",
        "print(d_3['Jerry'])\n",
        "print(d_3[0])"
      ]
    },
    {
      "cell_type": "markdown",
      "metadata": {
        "id": "AombHP6fkasE"
      },
      "source": [
        "## In-Class Exercise #1 - Print a formatted statement from the dictionary below <br>\n",
        "<p>The output should be '2018 Chevrolet Silverado'</p>"
      ]
    },
    {
      "cell_type": "code",
      "execution_count": 24,
      "metadata": {
        "colab": {
          "base_uri": "https://localhost:8080/"
        },
        "id": "dwhMNhy7kasF",
        "outputId": "bf7048e8-0143-4fcd-dfc4-ff2d47a17421"
      },
      "outputs": [
        {
          "name": "stdout",
          "output_type": "stream",
          "text": [
            "2018 Chevrolet Silverado\n",
            "2018\n"
          ]
        }
      ],
      "source": [
        "# use the dict below\n",
        "truck = {\n",
        "    \"year\": 2018,\n",
        "    'make': 'Chevrolet',\n",
        "    'model': 'Silverado'\n",
        "}\n",
        "\n",
        "\n",
        "print(f'{truck[\"year\"]} {truck[\"make\"]} {truck[\"model\"]}')\n",
        "\n",
        "print(f\"{truck['year']}\")\n",
        "\n"
      ]
    },
    {
      "cell_type": "code",
      "execution_count": 25,
      "metadata": {
        "colab": {
          "base_uri": "https://localhost:8080/"
        },
        "id": "2ph2i_MPkasF",
        "outputId": "45ebe252-90e6-4f7f-e24d-ffd327c09c30"
      },
      "outputs": [
        {
          "name": "stdout",
          "output_type": "stream",
          "text": [
            "Your car is a 2018 Chevrolet Silverado.\n"
          ]
        }
      ],
      "source": [
        "print(f\"Your car is a {truck['year']} {truck['make']} {truck['model']}.\")\n"
      ]
    },
    {
      "cell_type": "code",
      "execution_count": 26,
      "metadata": {
        "colab": {
          "base_uri": "https://localhost:8080/"
        },
        "id": "hZ7Hke3ykasF",
        "outputId": "807f11e7-891f-4c9b-dbb1-62c1b6133180"
      },
      "outputs": [
        {
          "name": "stdout",
          "output_type": "stream",
          "text": [
            "Frodo drives a 2018 Chevrolet Silverado\n"
          ]
        }
      ],
      "source": [
        "print(\"Frodo drives a {year} {make} {model}\".format(**truck) )"
      ]
    },
    {
      "cell_type": "markdown",
      "metadata": {
        "id": "gyLBOXBQkasF"
      },
      "source": [
        "##### Adding New Pairs"
      ]
    },
    {
      "cell_type": "code",
      "execution_count": 27,
      "metadata": {
        "colab": {
          "base_uri": "https://localhost:8080/"
        },
        "id": "ZAgPTXqgkasG",
        "outputId": "8d94ff7e-9fdf-4284-e291-5b8235306d88"
      },
      "outputs": [
        {
          "name": "stdout",
          "output_type": "stream",
          "text": [
            "{'Tom': '255 Main Street', 'Jerry': '256 Main Street', 0: 'This is a 0', 'Spike': '257 Main Street', 'Tike': '257 Main Street'}\n"
          ]
        }
      ],
      "source": [
        "# dict[key] = value\n",
        "d_3 = {\n",
        "    \"Tom\": \"255 Main Street\",\n",
        "    \"Jerry\": \"256 Main Street\",\n",
        "    0: \"This is a 0\"\n",
        "}\n",
        "\n",
        "d_3['Spike'] = '257 Main Street'\n",
        "d_3['Tike'] = '257 Main Street'\n",
        "\n",
        "print(d_3)"
      ]
    },
    {
      "cell_type": "markdown",
      "metadata": {
        "id": "hIFRYwjbkasG"
      },
      "source": [
        "##### Modifying Values"
      ]
    },
    {
      "cell_type": "code",
      "execution_count": null,
      "metadata": {
        "id": "SGPdsteXkasG"
      },
      "outputs": [],
      "source": [
        "# dict[key] = value\n",
        "d_3['Tike'] = '258 Main Street'\n",
        "d_3['Tom'] = '254 Main Street'\n",
        "d_3['Jerry'] = '254 Main Street'\n",
        "\n",
        "d_3['Tike'] = d_3['Tike'] + \" 60618\"\n",
        "#'258 Main Street' = '258 Main Street' + ' 60618'\n",
        "\n",
        "\n",
        "print(d_3)"
      ]
    },
    {
      "cell_type": "code",
      "execution_count": null,
      "metadata": {
        "id": "lDnnPfHEkasG"
      },
      "outputs": [],
      "source": [
        "my_list = [1, 1, 3, 4, 6, 7, 7, 10, 1, 4, 5]\n",
        "my_dict = {}\n",
        "for num in my_list:\n",
        "    if num not in my_dict:\n",
        "        my_dict[num] = 1\n",
        "        print(my_dict)\n",
        "    else:\n",
        "        my_dict[num] += 1\n",
        "        print(my_dict)\n"
      ]
    },
    {
      "cell_type": "markdown",
      "metadata": {
        "id": "fvagsCa3kasG"
      },
      "source": [
        "##### Removing Key, Value Pairs"
      ]
    },
    {
      "cell_type": "code",
      "execution_count": null,
      "metadata": {
        "id": "zpS5-6EwkasG"
      },
      "outputs": [],
      "source": [
        "# del dict[key]\n",
        "# del(my_list[0]) difference between list del and dict del is:\n",
        "# the list del(wraps the list in parentheses)\n",
        "\n",
        "print(d_3)\n",
        "\n",
        "del d_3[0] # <--- key not an index\n",
        "\n",
        "print(d_3)"
      ]
    },
    {
      "cell_type": "markdown",
      "metadata": {
        "id": "8grQGavikasH"
      },
      "source": [
        "##### Looping a Dictionary"
      ]
    },
    {
      "cell_type": "code",
      "execution_count": null,
      "metadata": {
        "id": "byfcYPhGkasH"
      },
      "outputs": [],
      "source": [
        "# .items()\n",
        "# a, b, c = 1, 2, 3\n",
        "for name, address in d_3.items():\n",
        "    print(f\" {name} lives at {address}\")"
      ]
    },
    {
      "cell_type": "markdown",
      "metadata": {
        "id": "4Oh11UohkasH"
      },
      "source": [
        "##### Looping Only Keys"
      ]
    },
    {
      "cell_type": "code",
      "execution_count": null,
      "metadata": {
        "id": "UgBy7uAWkasH"
      },
      "outputs": [],
      "source": [
        "# .keys()\n",
        "\n",
        "for key in d_3:\n",
        "    print(key)\n",
        "    \n",
        "print(\"\\n\") \n",
        "\n",
        "for name in d_3.keys():\n",
        "    print(name)\n",
        "\n",
        "# def my_func():\n",
        "#     print(\"Hello\")\n",
        "# my_func()"
      ]
    },
    {
      "cell_type": "markdown",
      "metadata": {
        "id": "Fc8UGu9WkasH"
      },
      "source": [
        "##### Looping Only Values"
      ]
    },
    {
      "cell_type": "code",
      "execution_count": null,
      "metadata": {
        "id": "pUlZeNV_kasH",
        "scrolled": true
      },
      "outputs": [],
      "source": [
        "# .values()\n",
        "\n",
        "for address in d_3.values():\n",
        "    if address == \"254 Main Street\":\n",
        "        print(\"Tom Lives Here\")\n",
        "    elif address == \"257 Main Street\":\n",
        "        d_3[\"Spike\"] = d_3['Spike'] + ' 60618'\n",
        "        print(d_3['Spike'])\n",
        "    else: \n",
        "        print(address)\n"
      ]
    },
    {
      "cell_type": "markdown",
      "metadata": {
        "id": "90gVjqVxkasH"
      },
      "source": [
        "## In-Class Exercise #2 - Create a Function that Prints All Key Value Pairs within a formatted string  <br>\n",
        "<p><b>Output should be:</b><br>\n",
        "Max has blue eyes<br>\n",
        "Lilly has brown eyes<br>\n",
        "Barney has blue eyes<br>\n",
        "etc.\n",
        "</p>"
      ]
    },
    {
      "cell_type": "code",
      "execution_count": null,
      "metadata": {
        "colab": {
          "base_uri": "https://localhost:8080/"
        },
        "id": "mESNZfSQkasI",
        "outputId": "1312b1df-c9f9-418c-f01c-7c29e1cbc0e5"
      },
      "outputs": [
        {
          "name": "stdout",
          "output_type": "stream",
          "text": [
            "Max has blue eyes.\n",
            "Lilly has brown eyes.\n",
            "Barney has blue eyes.\n",
            "Itachi has Genjutsu eyes.\n",
            "Sasuke has Sharingon eyes.\n",
            "Naruto has Nine Tails eyes.\n",
            "Jiraya has closed eyes.\n",
            "Pain has Pain eyes.\n",
            "Orochimaru has Sasuke in his eyes.\n",
            "Kabuto has Orochimaru in his eyes.\n",
            "Madara has the world in his eyes.\n"
          ]
        }
      ],
      "source": [
        "# use the dict below\n",
        "people = {\n",
        "    'Max' : 'blue',\n",
        "    'Lilly' : 'brown',\n",
        "    'Barney' : 'green',\n",
        "    'Ted' : 'purple',\n",
        "    'Sasuke' : 'sharingan'    \n",
        "} \n",
        "\n",
        "def print_info(info_dict):\n",
        "    for name, attribute in info_dict.items():\n",
        "        print(\"{} has {} eyes.\".format(name, attribute))\n",
        "\n",
        "info = {\n",
        "    \"Max\": \"blue\",\n",
        "    \"Lilly\": \"brown\",\n",
        "    \"Barney\": \"blue\",\n",
        "    \"Itachi\": \"Genjutsu\",\n",
        "    \"Sasuke\": \"Sharingon\",\n",
        "    \"Naruto\": \"Nine Tails\",\n",
        "    \"Jiraya\":\"closed\",\n",
        "    \"Pain\": \"Pain\",\n",
        "    \"Orochimaru\": \"Sasuke in his\",\n",
        "    \"Kabuto\":\"Orochimaru in his\",\n",
        "    \"Madara\": \"the world in his\",\n",
        "}\n",
        "\n",
        "print_info(info)"
      ]
    },
    {
      "cell_type": "code",
      "execution_count": 28,
      "metadata": {
        "colab": {
          "base_uri": "https://localhost:8080/"
        },
        "id": "O_5gWmXbkasI",
        "outputId": "72d6cf39-6fcd-4d66-ab07-686f28c059e0"
      },
      "outputs": [
        {
          "name": "stdout",
          "output_type": "stream",
          "text": [
            "Max has blue eyes.\n",
            "Lilly has brown eyes.\n",
            "Barney has blue eyes.\n",
            "Itachi has Genjutsu eyes.\n",
            "Sasuke has Sharingon eyes.\n",
            "Naruto has Nine Tails eyes.\n",
            "Jiraya has closed eyes.\n",
            "Pain has Pain eyes.\n",
            "Orochimaru has Sasuke in his eyes.\n",
            "Kabuto has Orochimaru in his eyes.\n",
            "Madara has the world in his eyes.\n"
          ]
        }
      ],
      "source": [
        "# use the dict below\n",
        "people = {\n",
        "    'Max' : 'blue',\n",
        "    'Lilly' : 'brown',\n",
        "    'Barney' : 'green',\n",
        "    'Ted' : 'purple',\n",
        "    'Sasuke' : 'sharingan'    \n",
        "} \n",
        "\n",
        "def print_info(info_dict):\n",
        "    for name, attribute in info_dict.items():\n",
        "        print(\"{} has {} eyes.\".format(name, attribute))\n",
        "\n",
        "info = {\n",
        "    \"Max\": \"blue\",\n",
        "    \"Lilly\": \"brown\",\n",
        "    \"Barney\": \"blue\",\n",
        "    \"Itachi\": \"Genjutsu\",\n",
        "    \"Sasuke\": \"Sharingon\",\n",
        "    \"Naruto\": \"Nine Tails\",\n",
        "    \"Jiraya\":\"closed\",\n",
        "    \"Pain\": \"Pain\",\n",
        "    \"Orochimaru\": \"Sasuke in his\",\n",
        "    \"Kabuto\":\"Orochimaru in his\",\n",
        "    \"Madara\": \"the world in his\",\n",
        "}\n",
        "\n",
        "print_info(info)"
      ]
    },
    {
      "cell_type": "code",
      "execution_count": null,
      "metadata": {
        "id": "5Z9rJ0g7kasI"
      },
      "outputs": [],
      "source": []
    },
    {
      "cell_type": "code",
      "execution_count": null,
      "metadata": {
        "id": "f0Lk83oqkasI"
      },
      "outputs": [],
      "source": []
    },
    {
      "cell_type": "markdown",
      "metadata": {
        "id": "CFuR47vpkasI"
      },
      "source": [
        "##### sorted()"
      ]
    },
    {
      "cell_type": "code",
      "execution_count": null,
      "metadata": {
        "colab": {
          "base_uri": "https://localhost:8080/"
        },
        "id": "M521dkdHkasI",
        "outputId": "80286e6b-295b-4a53-bfca-aef24cb4cc1e"
      },
      "outputs": [
        {
          "name": "stdout",
          "output_type": "stream",
          "text": [
            "[('Barney', 'green'), ('Lilly', 'brown'), ('Max', 'blue'), ('Sasuke', 'sharingan'), ('Ted', 'purple')]\n",
            "('Barney', 'green')\n",
            "green\n"
          ]
        }
      ],
      "source": [
        "# sorts variables in order\n",
        "#if we wrap dictionary with sorted() it returns a list of tuples sorted by key\n",
        "# sorted(dict.values()) or dict.keys() or dict.items()\n",
        "people = {\n",
        "    'Max' : 'blue',\n",
        "    'Lilly' : 'brown',\n",
        "    'Barney' : 'green',\n",
        "    'Ted' : 'purple',\n",
        "    'Sasuke' : 'sharingan'    \n",
        "} \n",
        "# print(\"Values\", sorted(people.values()))\n",
        "# print(\"Keys\", sorted(people.keys()))\n",
        "# print(\"Key, Value Pairs\", sorted(people.items()))\n",
        "\n",
        "# print(sorted(people.items())[1][0])\n",
        "\n",
        "sorted_items = sorted(people.items())\n",
        "print(sorted_items)\n",
        "\n",
        "print(sorted_items[0])\n",
        "print(sorted_items[0][1])"
      ]
    },
    {
      "cell_type": "markdown",
      "metadata": {
        "id": "QMXH-fglkasI"
      },
      "source": [
        "##### List with Dictionaries"
      ]
    },
    {
      "cell_type": "code",
      "execution_count": null,
      "metadata": {
        "colab": {
          "base_uri": "https://localhost:8080/"
        },
        "id": "3yd7naoxkasI",
        "outputId": "92782e18-6c31-424a-b360-8a5f6ec63efd"
      },
      "outputs": [
        {
          "name": "stdout",
          "output_type": "stream",
          "text": [
            "Gaara\n",
            "{'leaf_village': 'Naruto', 'leaf_village2': 'Kakashi'}\n",
            "Kakashi\n"
          ]
        }
      ],
      "source": [
        "shinobi = [\"Shikamaru\", \"Gaara\", \"OcotoPops\", {\"leaf_village\": \"Naruto\", \"leaf_village2\" : \"Kakashi\"}]\n",
        "\n",
        "print(shinobi[1])\n",
        "\n",
        "print(shinobi[3])\n",
        "\n",
        "#or\n",
        "\n",
        "#print(shinobi[-1])\n",
        "\n",
        "print(shinobi[3][\"leaf_village2\"])\n"
      ]
    },
    {
      "cell_type": "code",
      "execution_count": null,
      "metadata": {
        "id": "UKJsGA5jkasI"
      },
      "outputs": [],
      "source": []
    },
    {
      "cell_type": "markdown",
      "metadata": {
        "id": "aAmsSEEZkasI"
      },
      "source": [
        "##### Dictionaries with Lists"
      ]
    },
    {
      "cell_type": "code",
      "execution_count": null,
      "metadata": {
        "colab": {
          "base_uri": "https://localhost:8080/"
        },
        "id": "FC2D9jSlkasI",
        "outputId": "574f2253-a639-413d-95e1-5b1b6b58271b"
      },
      "outputs": [
        {
          "name": "stdout",
          "output_type": "stream",
          "text": [
            "1\n",
            "90\n"
          ]
        }
      ],
      "source": [
        "random_data = { \"list_1\": [54, 67, 90],\n",
        "    \"names\": [\"John\", \"Laura\", \"Bulbasaur\"],\n",
        "    1: [1,1,1,1]\n",
        "}\n",
        "\n",
        "print(random_data[1][1])\n",
        "print(random_data[\"list_1\"][2])\n"
      ]
    },
    {
      "cell_type": "code",
      "execution_count": null,
      "metadata": {
        "id": "Eor0okM7pbGF"
      },
      "outputs": [],
      "source": []
    },
    {
      "cell_type": "markdown",
      "metadata": {
        "id": "jx2XUkZVkasJ"
      },
      "source": [
        "##### Dictionaries with Dictionaries"
      ]
    },
    {
      "cell_type": "code",
      "execution_count": null,
      "metadata": {
        "colab": {
          "base_uri": "https://localhost:8080/"
        },
        "id": "sxnZI3mVkasJ",
        "outputId": "f7f06974-f8fe-402e-b6ba-918badcba719",
        "scrolled": true
      },
      "outputs": [
        {
          "name": "stdout",
          "output_type": "stream",
          "text": [
            "{'Ryan': {'Mexican': ['Tacos', 'Tortas', 'Arroz'], 'Desserts': ['Cheesecake', 'Cupcakes', 'Pie', 'Cookies']}, 'James': {'Main Course': ['Meatloaf', 'Beef Stroganoff', 'Chicken Stuffing Broccoli Casserole'], 'Desserts': ['Crumb Nutty Pie', 'Moon Pie', 'Pink Salad']}, 'Nate': {'favorite_dinner': ['Hibachi', 'Mexican', 'Italian'], 'favorite_dessert': ['Pazooki', 'Red Velvet Cake', 'Pumpkin Pie']}, 'Tenzin': {'Indian': ['Dumplings', 'Naan', 'Tandoori'], 'Mexican': ['Nachos', 'Empanadas', 'Burrito']}, 'Dylan': {'Sushi': ['Fatty Tuna', 'Unagi', 'Crab Roll'], 'Soup': ['Miso', 'Potato', 'Wonton']}, 'Jeong': {'Japanese': ['Sushi', 'Katsu', 'Ramen'], 'Korean': ['KBBQ', 'Stew', 'Porridge', 'K-Chicken'], 'Deserts': ['Bouncy Cheesecake', 'Ice Cream']}, 'John': {'Japanese': ['Sushi', 'Takoyaki', 'Ramen'], 'American': ['Cheeseburger', 'Crabcake'], 'Desserts': ['Pie', 'Ice Cream']}, 'Mike': {'Indian': ['Curry', 'Tikka', 'Chana'], 'Desserts': ['Applepie', 'Pecanpie', 'Carrotcake']}, 'Sam': {'Meals': ['Pizza', \"Wendy's 4 for 4\", 'Pasta', 'Hoagies'], 'Veggies': ['cucumbers', 'avocados', 'tomatoes', 'carrots']}, 'Kayla': {'Asian': ['Ramen', 'Bulgogi', 'HotPot'], 'Desserts': ['Chocolate', 'WaterGateSalad', 'Icecream']}, 'Austin': {'Mexican': ['Ceviche', 'Shrimp Chimichanga'], 'Fast Food': ['Chipolte', 'Chic-Fil-a'], 'Japanese': ['Nigri', 'Sashimi(Eel)']}, 'Mohammad': {'Food': ['Pasta', 'Fried Chicken', 'Tacos'], 'Desserts': ['Chocolate Cake', 'Ice Cream']}, 'Alex': {'Hispanic': ['tacos', 'pupusas', 'tomales'], 'Desserts': ['cheesecake', 'ice cream', 'tarimasu'], 'Cajun': ['gumbo', 'poboy', 'jambalaya']}}\n"
          ]
        }
      ],
      "source": [
        "# to get values, must traverse through keys\n",
        "\n",
        "        \n",
        "food_dict = {\n",
        "    \"Ryan\": {\n",
        "        \"Mexican\": [\"Tacos\", \"Tortas\", \"Arroz\"],\n",
        "        \"Desserts\": [\"Cheesecake\", \"Cupcakes\", \"Pie\", \"Cookies\"]\n",
        "    },\n",
        "    \"James\": {\n",
        "        \"Main Course\": [\"Meatloaf\", \"Beef Stroganoff\", \"Chicken Stuffing Broccoli Casserole\"],\n",
        "        \"Desserts\": [\"Crumb Nutty Pie\", \"Moon Pie\", \"Pink Salad\"]\n",
        "    },\n",
        "    \"Nate\": {\n",
        "        \"favorite_dinner\": ['Hibachi', 'Mexican', 'Italian'],\n",
        "        \"favorite_dessert\": ['Pazooki', 'Red Velvet Cake', \"Pumpkin Pie\" ]\n",
        "    },\n",
        "    \"Tenzin\": {\n",
        "        \"Indian\": [\"Dumplings\",\"Naan\",\"Tandoori\"],\n",
        "        \"Mexican\": [\"Nachos\", \"Empanadas\",\"Burrito\"]\n",
        "    },\n",
        "    \"Dylan\" : {\n",
        "        \"Sushi\" : [\"Fatty Tuna\", \"Unagi\", \"Crab Roll\"],\n",
        "        \"Soup\" : [\"Miso\", \"Potato\", \"Wonton\"] \n",
        "    },\n",
        "    \"Jeong\": {\n",
        "        \"Japanese\": [\"Sushi\", \"Katsu\", \"Ramen\"],\n",
        "        \"Korean\": [\"KBBQ\", \"Stew\", \"Porridge\", \"K-Chicken\"],\n",
        "        \"Deserts\": [\"Bouncy Cheesecake\", \"Ice Cream\"]\n",
        "    },\n",
        "    \"John\": {\n",
        "        \"Japanese\": [\"Sushi\", \"Takoyaki\", \"Ramen\"],\n",
        "        \"American\": [\"Cheeseburger\", \"Crabcake\"],\n",
        "        \"Desserts\": [\"Pie\", \"Ice Cream\"]\n",
        "    },\n",
        "    \"Mike\": {        \n",
        "        \"Indian\": [\"Curry\", \"Tikka\", \"Chana\"],\n",
        "        \"Desserts\":[\"Applepie\", \"Pecanpie\", \"Carrotcake\"]       \n",
        "        \n",
        "    },\n",
        "    \"Sam\": {\n",
        "        \"Meals\": [\"Pizza\", \"Wendy's 4 for 4\", \"Pasta\", \"Hoagies\"],\n",
        "        \"Veggies\": [\"cucumbers\", \"avocados\", \"tomatoes\", \"carrots\"]\n",
        "    },\n",
        "    \n",
        "    'Kayla':{\n",
        "        'Asian': ['Ramen', 'Bulgogi', 'HotPot'],\n",
        "        'Desserts': ['Chocolate', 'WaterGateSalad', 'Icecream']\n",
        "    }\n",
        "    ,\n",
        "    \"Austin\": {\n",
        "         \"Mexican\":[\"Ceviche\",\"Shrimp Chimichanga\"],\n",
        "         \"Fast Food\": [\"Chipolte\", \"Chic-Fil-a\"],\n",
        "         \"Japanese\": [\"Nigri\", \"Sashimi(Eel)\"]\n",
        "    },\n",
        "    \"Mohammad\": {\n",
        "        \"Food\":[\"Pasta\", \"Fried Chicken\" , \"Tacos\"],\n",
        "        \"Desserts\":[\"Chocolate Cake\" ,\"Ice Cream\"]\n",
        "    },\n",
        "    \"Alex\": {\n",
        "        \"Hispanic\" : ['tacos', 'pupusas', 'tomales'],\n",
        "        'Desserts': ['cheesecake','ice cream', 'tarimasu'],\n",
        "        'Cajun': ['gumbo','poboy','jambalaya']\n",
        "    }\n",
        "        \n",
        "\n",
        "}\n",
        "\n",
        "print(food_dict)\n",
        "\n",
        "\n"
      ]
    },
    {
      "cell_type": "code",
      "execution_count": 32,
      "metadata": {
        "id": "9mzIImPVkasJ"
      },
      "outputs": [],
      "source": []
    },
    {
      "cell_type": "code",
      "execution_count": null,
      "metadata": {
        "id": "bnoBimOpkasJ"
      },
      "outputs": [],
      "source": [
        "\n"
      ]
    },
    {
      "cell_type": "code",
      "execution_count": null,
      "metadata": {
        "id": "hhRcW8PGkasJ"
      },
      "outputs": [],
      "source": []
    },
    {
      "cell_type": "code",
      "execution_count": null,
      "metadata": {
        "id": "6ViijcSRkasJ"
      },
      "outputs": [],
      "source": []
    },
    {
      "cell_type": "markdown",
      "metadata": {
        "id": "7yutW6fAkasJ"
      },
      "source": [
        "## Dictionaries vs. Lists (over time) Example of RUNTIME\n",
        "### When inputting values in a Dictionary vs List"
      ]
    },
    {
      "cell_type": "code",
      "execution_count": 30,
      "metadata": {
        "id": "GgT8u-S-kasJ"
      },
      "outputs": [],
      "source": [
        "import time\n",
        "\n",
        "#generate dictionary\n",
        "d = {}\n",
        "\n",
        "for i in range(10000000):\n",
        "    d[i] = \"value \" + str(i)\n",
        "    \n",
        "#generate list\n",
        "big_list = [x for x in range(10000000)]\n",
        "    "
      ]
    },
    {
      "cell_type": "code",
      "execution_count": null,
      "metadata": {
        "id": "KlUzM2pskasJ"
      },
      "outputs": [],
      "source": [
        "#track the time for the dictionary\n",
        "\n",
        "start_time = time.time()\n",
        "\n",
        "print(d[9999999])\n",
        "        \n",
        "end_time = time.time() - start_time\n",
        "\n",
        "print(f\"elapsed time for dictionary: {end_time}\")\n",
        "\n",
        "\n",
        "start_time = time.time()\n",
        "\n",
        "#Tracking time for the list\n",
        "for i in range(len(big_list)):\n",
        "    if i == 9999999:\n",
        "        print(i)\n",
        "        \n",
        "end_time = time.time() - start_time\n",
        "print(f\"Elapsed time for list: {end_time}\")\n",
        "\n",
        "\n",
        "#Tracking time for a known position in a list\n",
        "start_time = time.time()\n",
        "\n",
        "print(big_list[-1])\n",
        "end_time = time.time() - start_time\n",
        "print(f\"Elapsed time for known position {end_time}\")\n",
        "        "
      ]
    },
    {
      "cell_type": "markdown",
      "metadata": {
        "id": "0p9NViiQkasJ"
      },
      "source": [
        "## Exercise #3 - Write a Function that asks someone's name and address, and then stores that into a dictionary, and continues to do so until they choose to 'quit'. Once they quit, the program should print all names and addresses. <br>\n",
        "<p>\n",
        "<b>Proper steps:</b><br>\n",
        "step 1: write a function that takes in information and stores it in a dictionary<br>\n",
        "step 2: define an empty dictionary to work with<br>\n",
        "step 3: create our loop, which asks the user for information until they quit<br>\n",
        "step 4: ask for the information, and store it into variables<br>\n",
        "step 5: check if the user types quit<br>\n",
        "step 5a: print out all information<br>\n",
        "step 5b: break out of the loop<br>\n",
        "step 6: if they didn't quit, add the information to the dictionary<br>\n",
        "step 7: invoke the function by calling it\n",
        "</p>"
      ]
    },
    {
      "cell_type": "code",
      "execution_count": 34,
      "metadata": {
        "id": "dKDtnCt5kasK"
      },
      "outputs": [],
      "source": [
        "from IPython.display import clear_output\n",
        "\n",
        "# Step 1\n",
        "def storeInfo():\n",
        "    #step 2\n",
        "    d = {}\n",
        "    \n",
        "    #step 3\n",
        "    while True:\n",
        "        #step 4\n",
        "        name = input(\"Enter a name or say 'quit' to quit: \")\n",
        "        if name.lower() != 'quit':\n",
        "            address = input(\"Enter an address or say 'quit' to quit\")\n",
        "       \n",
        "        #step 5\n",
        "        if name.lower() == \"quit\" or address.lower() == \"quit\":\n",
        "            #step 5a\n",
        "            for key, value in d.items():\n",
        "                print(f\"The address for {key} is {value}.\")\n",
        "            break\n",
        "        \n",
        "        d[name] = address #step 6\n",
        "        \n",
        "            \n",
        "            \n",
        "#Step 7\n",
        "storeInfo()"
      ]
    },
    {
      "cell_type": "markdown",
      "metadata": {
        "id": "3C6FKvpakasK"
      },
      "source": [
        "## Set <br>\n",
        "<p>A Set is an unordered collection data type that is iterable (loop), mutable, and has no duplicate elements.<br>Major advantage is that it is highly optimized in checking if something is in the set, as opposed to checking if something is in a list.</p>"
      ]
    },
    {
      "cell_type": "markdown",
      "metadata": {
        "id": "ghZ_-4UxkasK"
      },
      "source": [
        "##### Declaring"
      ]
    },
    {
      "cell_type": "code",
      "execution_count": null,
      "metadata": {
        "id": "VVGo3-JtkasK",
        "scrolled": false
      },
      "outputs": [],
      "source": [
        "# set() or {}\n",
        "# no order {3, 2, 1} outputs as {1, 2, 3}\n",
        "\n",
        "nums = {4, 1, 8, 4}\n",
        "\n",
        "print(nums)\n",
        "\n",
        "my_list = [1,1,1,1,1,4,5,6,6,6,6,6,6,6,7,7,8,9,9,9,9,9,9]\n",
        "\n",
        "my_set = set(my_list)\n",
        "print(my_set)"
      ]
    },
    {
      "cell_type": "code",
      "execution_count": null,
      "metadata": {
        "id": "_bqJZud8kasK",
        "scrolled": true
      },
      "outputs": [],
      "source": []
    },
    {
      "cell_type": "code",
      "execution_count": null,
      "metadata": {
        "id": "gTrY4-8ckasK"
      },
      "outputs": [],
      "source": []
    },
    {
      "cell_type": "markdown",
      "metadata": {
        "id": "2npc22WSkasK"
      },
      "source": [
        "##### .add()"
      ]
    },
    {
      "cell_type": "code",
      "execution_count": null,
      "metadata": {
        "id": "RS-NtX9VkasK"
      },
      "outputs": [],
      "source": [
        "# set.add()\n",
        "\n",
        "my_set = {2, 5, 4, 7, 9}\n",
        "print(my_set)\n",
        "my_set.add(22)\n",
        "print(my_set)\n",
        "my_set.add(2)\n",
        "print(my_set)\n",
        "my_set.add(2.4)\n",
        "print(my_set)\n",
        "my_set.add('Hello')\n",
        "print(my_set)\n",
        "my_set.add('hello')\n",
        "print(my_set)\n",
        "my_set.add('hello')\n",
        "print(my_set)\n"
      ]
    },
    {
      "cell_type": "markdown",
      "metadata": {
        "id": "4ok1BS-WkasK"
      },
      "source": [
        "##### .remove()"
      ]
    },
    {
      "cell_type": "code",
      "execution_count": 37,
      "metadata": {
        "id": "QRPONXeXkasK"
      },
      "outputs": [],
      "source": [
        "# removes by value\n",
        "# set.remove()\n",
        "# nums.remove(56)\n",
        "print(my_set)\n",
        "# my_set.remove(22)\n",
        "print(my_set)\n",
        "my_set.remove(9)\n",
        "print(my_set)\n"
      ]
    },
    {
      "cell_type": "markdown",
      "metadata": {
        "id": "XlZpIwAgkasK"
      },
      "source": [
        "##### .union() "
      ]
    },
    {
      "cell_type": "code",
      "execution_count": 35,
      "metadata": {
        "colab": {
          "base_uri": "https://localhost:8080/"
        },
        "id": "BgqnKX0akasL",
        "outputId": "0e083894-f8ba-4faf-cc1b-c714ae015c5d"
      },
      "outputs": [
        {
          "name": "stdout",
          "output_type": "stream",
          "text": [
            "{1, 2, 3, 4, 5, 6}\n",
            "{1, 2, 3, 4, 5, 6}\n"
          ]
        }
      ],
      "source": [
        "# Returns a union of two sets, can also use '|' or set.union(set)\n",
        "# joins all numbers, gets rid of duplicates\n",
        "s1 = {1,2,3,4}\n",
        "s2 = {3,4,5,6}\n",
        "\n",
        "s3 = s1.union(s2)\n",
        "\n",
        "print(s3)\n",
        "\n",
        "# or\n",
        "\n",
        "s4 = s2 | s1\n",
        "\n",
        "print(s4)"
      ]
    },
    {
      "cell_type": "markdown",
      "metadata": {
        "id": "Gmez5atGkasL"
      },
      "source": [
        "##### .intersection()"
      ]
    },
    {
      "cell_type": "code",
      "execution_count": null,
      "metadata": {
        "id": "9z-h1N7NkasL"
      },
      "outputs": [],
      "source": [
        "# Returns an intersection of two sets, can also use '&'\n",
        "# only takes similar elements from both sets\n",
        "s1 = {1,2,3,4}\n",
        "s2 = {3,4,5,6}\n",
        "\n",
        "s3 = s2.intersection(s1)\n",
        "\n",
        "print(s3)\n",
        "\n",
        "\n",
        "s4 = s1 & s2\n",
        "\n",
        "print(s4)"
      ]
    },
    {
      "cell_type": "markdown",
      "metadata": {
        "id": "px2-DzW0kasL"
      },
      "source": [
        "##### .difference()"
      ]
    },
    {
      "cell_type": "code",
      "execution_count": null,
      "metadata": {
        "id": "_OkCWzAKkasM"
      },
      "outputs": [],
      "source": [
        "# Returns a set containing all the elements of invoking set that are not in the second set, can also use '-'\n",
        "# only takes values from the first set that are not in the second set\n",
        "# order matters\n",
        "s1 = {1,2,3,4}\n",
        "s2 = {3,4,5,6}\n",
        "\n",
        "s7 = s1 - s2\n",
        "print(s7)\n",
        "\n",
        "#or \n",
        "\n",
        "s8 = s2.difference(s1)\n",
        "print(s8)"
      ]
    },
    {
      "cell_type": "markdown",
      "metadata": {
        "id": "R1zhBoejkasM"
      },
      "source": [
        "##### .clear()"
      ]
    },
    {
      "cell_type": "code",
      "execution_count": null,
      "metadata": {
        "id": "dZTeuyuWkasM"
      },
      "outputs": [],
      "source": [
        "# Empties the whole set\n",
        "# set.clear()\n",
        "print(s8)\n",
        "s8.clear()\n",
        "print(s8)"
      ]
    },
    {
      "cell_type": "code",
      "execution_count": null,
      "metadata": {
        "id": "NHn7cDcekasM"
      },
      "outputs": [],
      "source": [
        "my_dict = {}\n",
        "print(my_dict)"
      ]
    },
    {
      "cell_type": "markdown",
      "metadata": {
        "id": "ayf1FOFwkasM"
      },
      "source": [
        "##### Frozenset <br>\n",
        "<p>Frozen sets are immutable objects that only support methods and operators that produce a result without affecting the frozen set or sets to which they are applied.</p><br><b>Unique & Immutable</b>"
      ]
    },
    {
      "cell_type": "code",
      "execution_count": null,
      "metadata": {
        "id": "g_3nRi2XkasM"
      },
      "outputs": [],
      "source": [
        "# frozenset([])\n",
        "my_set = {2, 3, 4, 'hello', 7, 'my dog is neat', 5}\n",
        "print(my_set)\n",
        "\n",
        "frozen_set = frozenset(my_set)\n",
        "\n",
        "print(frozen_set)\n",
        "\n",
        "# frozen_set.add(22)\n",
        "# frozen_set.remove('hello')\n",
        "\n",
        "my_new_set = set(frozen_set)\n",
        "\n",
        "print(my_new_set)\n",
        "my_new_set.add('cool beans')\n",
        "print(my_new_set)\n",
        "frozen_set = frozenset(my_new_set)\n",
        "print(frozen_set)\n"
      ]
    },
    {
      "cell_type": "markdown",
      "metadata": {
        "id": "g_EJazjHkasM"
      },
      "source": [
        "# Exercises"
      ]
    },
    {
      "cell_type": "markdown",
      "metadata": {
        "id": "ikIuTERKkasM"
      },
      "source": [
        "### 1) Build a Shopping Cart <br>\n",
        "<p><b>You can use either lists or dictionaries. The program should have the following capabilities:</b><br><br>\n",
        "1) Takes in input <br>\n",
        "2) Stores user input into a dictionary or list <br>\n",
        "3) The User can add or delete items <br>\n",
        "4) The User can see current shopping list <br>\n",
        "5) The program Loops until user 'quits' <br>\n",
        "6) Upon quiting the program, print out all items in the user's list <br>\n",
        "</p>"
      ]
    },
    {
      "cell_type": "code",
      "execution_count": 2,
      "metadata": {
        "colab": {
          "base_uri": "https://localhost:8080/"
        },
        "id": "A0Ev6u49kasM",
        "outputId": "f260cb9e-c037-4f79-bb03-b24de957e119"
      },
      "outputs": [
        {
          "name": "stdout",
          "output_type": "stream",
          "text": [
            "ITEM\t\t\tNAME                    PRICE ($)\n",
            "1.\t\t\tYuzu juice\t\t\t9.99\n",
            "2.\t\t\tLobster\t\t\t19.99\n",
            "3.\t\t\tTruffle\t\t\t14.99\n",
            "4.\t\t\tSakura Mochi\t\t\t5.99\n",
            "You selected Yuzu juice\n",
            "Added to shopping cart: 2 units of Yuzu juice\n",
            "\n",
            "Your Shopping Cart:\n",
            "ITEM\t\t\tQUANT\t\t\tUNIT PRICE\t\t\tTOTAL\n",
            "Yuzu juice\t\t\t2\t\t\t9.99\t\t\t19.98\n",
            "\n",
            "Your total order is ($) 19.98\n",
            "Proceed to checkout\n"
          ]
        }
      ],
      "source": [
        "menu = {'Yuzu juice': 9.99, 'Lobster': 19.99, 'Truffle': 14.99, 'Sakura Mochi': 5.99}\n",
        "\n",
        "print('ITEM', 'NAME                    PRICE ($)', sep='\\t\\t\\t')\n",
        "for i, item in enumerate(menu.items(), 1):\n",
        "    print(str(i) + '.', item[0], item[1], sep='\\t\\t\\t')\n",
        "\n",
        "shopping_cart = []\n",
        "shopping_quant = []\n",
        "shopping_incomplete = True\n",
        "\n",
        "while shopping_incomplete:\n",
        "    order = int(input('Enter 1 to 4 to select an item, 5 to proceed to checkout.\\n'))\n",
        "\n",
        "    if order <= 4:\n",
        "        # User wants to purchase something.\n",
        "        print('You selected', list(menu.keys())[order - 1])\n",
        "        quant = int(input('How many units do you wish to purchase?\\n'))\n",
        "\n",
        "        # Add the item to the shopping cart.\n",
        "        # List 1: Shopping Cart items\n",
        "        # List 2: Quantity\n",
        "        if list(menu.keys())[order - 1] in shopping_cart:\n",
        "            idx = shopping_cart.index(list(menu.keys())[order - 1])\n",
        "            shopping_quant[idx] += quant\n",
        "        else:\n",
        "            shopping_cart.append(list(menu.keys())[order - 1])\n",
        "            shopping_quant.append(quant)\n",
        "\n",
        "        print('Added to shopping cart:', quant, 'units of', list(menu.keys())[order - 1])\n",
        "    elif order == 5:\n",
        "        shopping_incomplete = False\n",
        "    else:\n",
        "        print(\"Sorry that was not a valid input.\")\n",
        "\n",
        "# Show the shopping cart.\n",
        "print()\n",
        "print('Your Shopping Cart:')\n",
        "grand_tot = 0.0\n",
        "print('ITEM', 'QUANT', 'UNIT PRICE', 'TOTAL', sep='\\t\\t\\t')\n",
        "for kk in range(len(shopping_cart)):\n",
        "    unit_price = menu[shopping_cart[kk]]\n",
        "    tot_price = round(unit_price * shopping_quant[kk], 2)\n",
        "    grand_tot += tot_price\n",
        "    print(shopping_cart[kk], shopping_quant[kk], unit_price, tot_price, sep='\\t\\t\\t')\n",
        "\n",
        "grand_tot = round(grand_tot, 2)\n",
        "print()\n",
        "print('Your total order is ($)', grand_tot)\n",
        "print('Proceed to checkout')\n",
        "\n"
      ]
    },
    {
      "cell_type": "code",
      "execution_count": 5,
      "metadata": {},
      "outputs": [
        {
          "name": "stdout",
          "output_type": "stream",
          "text": [
            "Welcome to the Cute Cat Store!\n",
            "ITEM\t\t\tNAME                    PRICE ($)\n",
            "1.\t\t\tYuzu juice\t\t\t9.99\n",
            "2.\t\t\tLobster\t\t\t19.99\n",
            "3.\t\t\tTruffle\t\t\t14.99\n",
            "4.\t\t\tSakura Mochi\t\t\t5.99\n",
            "You selected Yuzu juice\n",
            "Added to shopping cart: 3 units of Yuzu juice\n",
            "You selected Lobster\n",
            "Added to shopping cart: 3 units of Lobster\n",
            "You selected Sakura Mochi\n",
            "Added to shopping cart: 1 units of Sakura Mochi\n",
            "You selected Yuzu juice\n",
            "Added to shopping cart: 2 units of Yuzu juice\n",
            "ITEM\t\tQUANT\t\tUNIT PRICE\t\tTOTAL\n",
            "Yuzu juice\t\t5\t\t9.99\t\t49.95\n",
            "Lobster\t\t3\t\t19.99\t\t59.97\n",
            "Sakura Mochi\t\t1\t\t5.99\t\t5.99\n",
            "\n",
            "Your total order is ($) 115.91\n",
            "Proceed to checkout\n",
            "\n",
            "Thank you for shopping at the Cute Cat Store! We hope to see you again soon!\n"
          ]
        }
      ],
      "source": [
        "print('Welcome to the Cute Cat Store!')\n",
        "\n",
        "# Define the menu dictionary\n",
        "menu = {'Yuzu juice': 9.99, 'Lobster': 19.99, 'Truffle': 14.99, 'Sakura Mochi': 5.99}\n",
        "\n",
        "# Print the menu\n",
        "print('ITEM', 'NAME                    PRICE ($)', sep='\\t\\t\\t')\n",
        "for i, item in enumerate(menu.items(), 1):\n",
        "    print(str(i) + '.', item[0], item[1], sep='\\t\\t\\t')\n",
        "\n",
        "# Initialize the shopping cart dictionary and the shopping_ongoing flag\n",
        "shopping_cart = {}\n",
        "shopping_ongoing = True\n",
        "\n",
        "while shopping_ongoing:\n",
        "    order = int(input('Enter 1 to 4 to select an item, 5 to proceed to checkout.\\n'))\n",
        "\n",
        "    if order <= 4:\n",
        "        # User wants to purchase something.\n",
        "        item = list(menu.keys())[order - 1]\n",
        "        print('You selected', item)\n",
        "\n",
        "        quant = int(input('How many units do you wish to purchase?\\n'))\n",
        "\n",
        "        # Add the item to the shopping cart dictionary.\n",
        "        if item in shopping_cart:\n",
        "            shopping_cart[item] += quant\n",
        "        else:\n",
        "            shopping_cart[item] = quant\n",
        "\n",
        "        print('Added to shopping cart:', quant, 'units of', item)\n",
        "    elif order == 5:\n",
        "        shopping_ongoing = False\n",
        "    else:\n",
        "        print(\"Sorry that was not a valid input.\")\n",
        "\n",
        "# Show the shopping cart\n",
        "print('ITEM', 'QUANT', 'UNIT PRICE', 'TOTAL', sep='\\t\\t')\n",
        "\n",
        "# Initialize grand total\n",
        "grand_tot = 0.0\n",
        "\n",
        "# Print items in the shopping cart\n",
        "for item, quant in shopping_cart.items():\n",
        "    unit_price = menu[item]\n",
        "    tot_price = round(unit_price * quant, 2)\n",
        "    grand_tot += tot_price\n",
        "    print(item, quant, unit_price, tot_price, sep='\\t\\t')\n",
        "\n",
        "# Print the grand total\n",
        "grand_tot = round(grand_tot, 2)\n",
        "print('\\nYour total order is ($)', grand_tot)\n",
        "\n",
        "# Print a message for the checkout\n",
        "print('Proceed to checkout')\n",
        "# Thank the user for shopping\n",
        "print(\"\\nThank you for shopping at the Cute Cat Store! We hope to see you again soon!\")"
      ]
    },
    {
      "cell_type": "markdown",
      "metadata": {
        "id": "kNDNHNxdkasN"
      },
      "source": [
        "### 2) Set Practice"
      ]
    },
    {
      "cell_type": "markdown",
      "metadata": {
        "id": "yKkLp5KykasN"
      },
      "source": [
        "<p><b>Remove all duplicates from the following list</b></p>"
      ]
    },
    {
      "cell_type": "code",
      "execution_count": 21,
      "metadata": {
        "colab": {
          "base_uri": "https://localhost:8080/"
        },
        "id": "FAMt2iwRkasN",
        "outputId": "52b29442-6d84-4471-f252-75720c0fdf79"
      },
      "outputs": [
        {
          "name": "stdout",
          "output_type": "stream",
          "text": [
            "[1, 2, 3, 4, 5, 6, 11, 12, 14, 16]\n"
          ]
        }
      ],
      "source": [
        "nums_list = [1, 1, 1, 2, 2, 3, 5, 6, 4, 12, 11, 12, 12, 14, 16, 16, 16, 1, 1, 1, 2, 2]\n",
        "\n",
        "nums_list = list(set(nums_list))\n",
        "\n",
        "print(nums_list)"
      ]
    },
    {
      "cell_type": "markdown",
      "metadata": {
        "id": "kugBSFfkkasN"
      },
      "source": [
        "<p><b>Out put the intersection of the following the following sets.</b></p>"
      ]
    },
    {
      "cell_type": "code",
      "execution_count": 20,
      "metadata": {
        "colab": {
          "base_uri": "https://localhost:8080/"
        },
        "id": "Wapv-CNhkasN",
        "outputId": "501049f5-b036-4ca7-c28f-bdf13c3f9072"
      },
      "outputs": [
        {
          "name": "stdout",
          "output_type": "stream",
          "text": [
            "{26, 27}\n"
          ]
        }
      ],
      "source": [
        "set1 = {20, 24, 26, 27}\n",
        "set2 = {26, 35, 63, 27}\n",
        "\n",
        "set3 = set2.intersection(set1)\n",
        "\n",
        "print(set3)"
      ]
    },
    {
      "cell_type": "markdown",
      "metadata": {
        "id": "QRZ7clKWkasN"
      },
      "source": [
        "<p><b>Output the difference between the following sets</b></p>"
      ]
    },
    {
      "cell_type": "code",
      "execution_count": 1,
      "metadata": {
        "colab": {
          "base_uri": "https://localhost:8080/"
        },
        "id": "D9-2HUoykasO",
        "outputId": "b1a4ef33-91f0-41a9-fd97-4fe34195cd31"
      },
      "outputs": [
        {
          "name": "stdout",
          "output_type": "stream",
          "text": [
            "{89, 100}\n"
          ]
        }
      ],
      "source": [
        "set3 = {100, 65, 89, 200}\n",
        "set4 = {65, 103, 54, 200}\n",
        "\n",
        "diff = set3 - set4\n",
        "\n",
        "print(diff)"
      ]
    }
  ],
  "metadata": {
    "colab": {
      "provenance": []
    },
    "kernelspec": {
      "display_name": "Python 3 (ipykernel)",
      "language": "python",
      "name": "python3"
    },
    "language_info": {
      "codemirror_mode": {
        "name": "ipython",
        "version": 3
      },
      "file_extension": ".py",
      "mimetype": "text/x-python",
      "name": "python",
      "nbconvert_exporter": "python",
      "pygments_lexer": "ipython3",
      "version": "3.11.2"
    }
  },
  "nbformat": 4,
  "nbformat_minor": 0
}
